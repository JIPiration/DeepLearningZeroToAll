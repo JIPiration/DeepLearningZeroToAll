{
 "cells": [
  {
   "cell_type": "code",
   "execution_count": 36,
   "metadata": {},
   "outputs": [],
   "source": [
    "import matplotlib.pyplot as plt\n",
    "from PIL import Image\n",
    "# from scipy.misc import imread, imresize\n",
    "from imageio import imread\n",
    "from transformations import *\n",
    "import numpy as np\n",
    "\n",
    "%matplotlib inline"
   ]
  },
  {
   "cell_type": "code",
   "execution_count": 37,
   "metadata": {},
   "outputs": [],
   "source": [
    "size = 128"
   ]
  },
  {
   "cell_type": "code",
   "execution_count": 38,
   "metadata": {},
   "outputs": [],
   "source": [
    "img = imread('images/ISIC_0000301.jpg')"
   ]
  },
  {
   "cell_type": "code",
   "execution_count": 40,
   "metadata": {},
   "outputs": [],
   "source": [
    "#img_resized = Image.resize(img, (size, size, 3))\n",
    "\n",
    "# im = imresize(im, (h, int(w * aspect_ratio)), interp='bicubic')\n",
    "img_resized = np.array(Image.fromarray(img).resize((size, size)))"
   ]
  },
  {
   "cell_type": "code",
   "execution_count": 44,
   "metadata": {},
   "outputs": [
    {
     "ename": "NameError",
     "evalue": "name 'select_channels' is not defined",
     "output_type": "error",
     "traceback": [
      "\u001b[0;31m---------------------------------------------------------------------\u001b[0m",
      "\u001b[0;31mNameError\u001b[0m                           Traceback (most recent call last)",
      "\u001b[0;32m<ipython-input-44-8e1171d03036>\u001b[0m in \u001b[0;36m<module>\u001b[0;34m\u001b[0m\n\u001b[0;32m----> 1\u001b[0;31m \u001b[0mimg_R\u001b[0m\u001b[0;34m,\u001b[0m \u001b[0mimg_V\u001b[0m \u001b[0;34m=\u001b[0m \u001b[0mselect_channels\u001b[0m\u001b[0;34m(\u001b[0m\u001b[0mimg_resized\u001b[0m\u001b[0;34m)\u001b[0m\u001b[0;34m\u001b[0m\u001b[0;34m\u001b[0m\u001b[0m\n\u001b[0m\u001b[1;32m      2\u001b[0m \u001b[0mimg_GRAY\u001b[0m \u001b[0;34m=\u001b[0m \u001b[0mcalculate_GRAY\u001b[0m\u001b[0;34m(\u001b[0m\u001b[0mimg_resized\u001b[0m\u001b[0;34m)\u001b[0m\u001b[0;34m\u001b[0m\u001b[0;34m\u001b[0m\u001b[0m\n\u001b[1;32m      3\u001b[0m \u001b[0mimg_Intrinsic\u001b[0m\u001b[0;34m,\u001b[0m \u001b[0mimg_SA\u001b[0m \u001b[0;34m=\u001b[0m \u001b[0mcalculate_Intrinsic_SA\u001b[0m\u001b[0;34m(\u001b[0m\u001b[0mimg_resized\u001b[0m\u001b[0;34m)\u001b[0m\u001b[0;34m\u001b[0m\u001b[0;34m\u001b[0m\u001b[0m\n",
      "\u001b[0;31mNameError\u001b[0m: name 'select_channels' is not defined"
     ]
    }
   ],
   "source": [
    "img_R, img_V = select_channels(img_resized)\n",
    "img_GRAY = calculate_GRAY(img_resized)\n",
    "img_Intrinsic, img_SA = calculate_Intrinsic_SA(img_resized)"
   ]
  },
  {
   "cell_type": "code",
   "execution_count": null,
   "metadata": {},
   "outputs": [],
   "source": [
    "fig, axs = plt.subplots(2,3, figsize=(12,8))\n",
    "\n",
    "axs[0][0].imshow(img_resized)\n",
    "axs[0][0].title.set_text(\"Original RGB\")\n",
    "axs[0][1].imshow(img_R, cmap='gray')\n",
    "axs[0][1].title.set_text(\"R'\")\n",
    "axs[0][2].imshow(img_V, cmap='gray')\n",
    "axs[0][2].title.set_text(\"V*\")\n",
    "axs[1][0].imshow(img_GRAY, cmap='gray')\n",
    "axs[1][0].title.set_text(\"GRAY\")\n",
    "axs[1][1].imshow(img_Intrinsic, cmap='gray')\n",
    "axs[1][1].title.set_text(\"Intrinsic\")\n",
    "axs[1][2].imshow(img_SA)\n",
    "axs[1][2].title.set_text(\"SA\")\n",
    "[ax.set_axis_off() for ax in axs.ravel()]\n",
    "\n",
    "plt.show()"
   ]
  }
 ],
 "metadata": {
  "kernelspec": {
   "display_name": "jipiration",
   "language": "python",
   "name": "jipiration"
  },
  "language_info": {
   "codemirror_mode": {
    "name": "ipython",
    "version": 3
   },
   "file_extension": ".py",
   "mimetype": "text/x-python",
   "name": "python",
   "nbconvert_exporter": "python",
   "pygments_lexer": "ipython3",
   "version": "3.7.5"
  }
 },
 "nbformat": 4,
 "nbformat_minor": 4
}
