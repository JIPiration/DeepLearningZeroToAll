{
 "cells": [
  {
   "cell_type": "code",
   "execution_count": 19,
   "metadata": {},
   "outputs": [
    {
     "name": "stdout",
     "output_type": "stream",
     "text": [
      "WARNING:tensorflow:From /home/jipiration/anaconda3/envs/jipiration/lib/python3.7/site-packages/tensorflow/python/util/module_wrapper.py:49: The name tf.keras.backend.set_session is deprecated. Please use tf.compat.v1.keras.backend.set_session instead.\n",
      "\n"
     ]
    }
   ],
   "source": [
    "import tensorflow as tf\n",
    "import keras\n",
    "#from keras.backend.tensorflow_backend import set_session\n",
    "#from tensorflow.python.keras import backend as K\n",
    "\n",
    "\n",
    "import numpy as np\n",
    "from sklearn.model_selection import train_test_split\n",
    "import os, glob\n",
    "import matplotlib.pyplot as plt\n",
    "import cv2\n",
    "from keras.applications.mobilenet_v2 import MobileNetV2\n",
    "\n",
    "from DataGenerator import DataGenerator\n",
    "\n",
    "\n",
    "config = tf.compat.v1.ConfigProto()\n",
    "#config = tf.ConfigProto()\n",
    "config.gpu_options.allow_growth = True\n",
    "config.log_device_placement = False\n",
    "sess = tf.compat.v1.Session(config=config)\n",
    "tf.compat.v1.keras.backend.set_session(sess)"
   ]
  },
  {
   "cell_type": "code",
   "execution_count": null,
   "metadata": {},
   "outputs": [],
   "source": [
    "base_path = '/mnt2/iris_processed/'\n",
    "\n",
    "json_list = glob.glob(os.path.join(base_path, '*/data/*.json'))\n",
    "\n",
    "json_list[:10]"
   ]
  },
  {
   "cell_type": "code",
   "execution_count": null,
   "metadata": {},
   "outputs": [],
   "source": [
    "# np.savez_compressed(os.path.join(base_path, 'json_list.npz'), data=json_list)\n",
    "\n",
    "base_path = '/mnt2/iris_processed/'\n",
    "json_list = np.load(os.path.join(base_path, 'json_list.npz'))['data']"
   ]
  },
  {
   "cell_type": "code",
   "execution_count": null,
   "metadata": {},
   "outputs": [],
   "source": [
    "print(len(json_list))"
   ]
  },
  {
   "cell_type": "code",
   "execution_count": null,
   "metadata": {},
   "outputs": [],
   "source": [
    "json_list_train, json_list_val = train_test_split(json_list, test_size=0.1, random_state=2020)\n",
    "\n",
    "print(len(json_list_train), len(json_list_val))"
   ]
  },
  {
   "cell_type": "code",
   "execution_count": null,
   "metadata": {},
   "outputs": [],
   "source": [
    "BATCH_SIZE = 32\n",
    "IMG_SIZE = 96\n",
    "N_CHANNEL = 3\n",
    "\n",
    "train_gen = DataGenerator(\n",
    "    phase='train',\n",
    "    file_list=json_list_train,\n",
    "    batch_size=BATCH_SIZE,\n",
    "    img_size=IMG_SIZE,\n",
    "    n_channel=N_CHANNEL\n",
    ")\n",
    "\n",
    "val_gen = DataGenerator(\n",
    "    phase='val',\n",
    "    file_list=json_list_val,\n",
    "    batch_size=BATCH_SIZE,\n",
    "    img_size=IMG_SIZE,\n",
    "    n_channel=N_CHANNEL\n",
    ")\n",
    "\n",
    "print(\"Done!\")"
   ]
  },
  {
   "cell_type": "code",
   "execution_count": null,
   "metadata": {},
   "outputs": [],
   "source": [
    "test_data = val_gen.__getitem__(0)\n",
    "\n",
    "print(test_data[0].shape)\n",
    "print(test_data[1].shape)\n",
    "\n",
    "test_img = test_data[0][0].squeeze()\n",
    "test_contour = test_data[1][0].squeeze().reshape((-1, 2))\n",
    "\n",
    "print(test_contour)\n",
    "\n",
    "for p in test_contour:\n",
    "    cv2.circle(test_img, center=tuple(p.astype(int)), radius=1, color=1, thickness=-1, lineType=cv2.LINE_AA)\n",
    "\n",
    "plt.imshow(test_img)"
   ]
  },
  {
   "cell_type": "code",
   "execution_count": null,
   "metadata": {},
   "outputs": [],
   "source": [
    "from keras.layers import GlobalAveragePooling2D, BatchNormalization, Dense\n",
    "from keras.models import Model\n",
    "\n",
    "base_model = MobileNetV2(include_top=False, weights='imagenet', input_shape=(IMG_SIZE, IMG_SIZE, N_CHANNEL))\n",
    "\n",
    "x = base_model.output\n",
    "x = GlobalAveragePooling2D()(x)\n",
    "\n",
    "x = BatchNormalization()(x)\n",
    "x = Dense(1280, activation='relu')(x)\n",
    "\n",
    "x = BatchNormalization()(x)\n",
    "output = Dense(38, activation='linear')(x)\n",
    "\n",
    "model = Model(inputs=base_model.input, outputs=output)\n",
    "\n",
    "model.compile(loss='mse', optimizer='adam')\n",
    "\n",
    "model.summary()"
   ]
  },
  {
   "cell_type": "code",
   "execution_count": null,
   "metadata": {},
   "outputs": [],
   "source": [
    "from keras.callbacks import ReduceLROnPlateau, ModelCheckpoint, TensorBoard\n",
    "from datetime import datetime\n",
    "\n",
    "os.makedirs('models', exist_ok=True)\n",
    "start_time = datetiem.now().strftim('%Y-%m-%d_%H-%M-%S')\n",
    "\n",
    "history = model.fit(\n",
    "    train_gen,\n",
    "    validation_data=val_gen,\n",
    "    epochs=50,\n",
    "    callbacks=[\n",
    "        ReduceLROnPlateau(monitor='val_loss', factor=0.2, patience=10, verbose=1, mode='auto', min_lr=1e-05),\n",
    "        ModelCheckpoint('models/%s-{epoch:02d}-{val_loss:.2f}.h5' % (start_time), monitor='val_loss', save_best_only=True, mode='min', verbose=1),\n",
    "        TensorBoard(log_dir='logs/%s' % (start_time))\n",
    "    ],\n",
    "    use_multiprocessing=True,\n",
    "    workers=5,\n",
    "    max_queue_size=5\n",
    ")"
   ]
  },
  {
   "cell_type": "code",
   "execution_count": null,
   "metadata": {},
   "outputs": [],
   "source": [
    "from keras.models import load_model\n",
    "best_model = load_model('models/2020-08-13_09-15-19-08-19.74.h5')  # 모델 결과 따라 변경할 것."
   ]
  },
  {
   "cell_type": "code",
   "execution_count": null,
   "metadata": {},
   "outputs": [],
   "source": [
    "test_data = val_gen.__getitem__(0)\n",
    "\n",
    "fig, axes = plt.subplots(BATCH_SIZE, 1, figsize=(10, 100))\n",
    "\n",
    "for i, (img, contour) in enumerate(zip(test_data[0], test_data[1])):\n",
    "    # ground truth\n",
    "    gt_contour = contour.reshape((-1, 2))\n",
    "    \n",
    "    for p in gt_contour:\n",
    "        cv2.circle(img, center=tuple(p.astype(int)), radius=1, color=(1, 0, 0), thickness=-1, lineType=cv2.LINE_AA)\n",
    "        \n",
    "    # prediction\n",
    "    pred_contour = best_model.predict(np.expand_dims(img, axis=0)).reshape((-1, 2))\n",
    "    \n",
    "    for p in pred_contour:\n",
    "        cv2.circle(img, center=tuple(p.astype(int)), radius=1, color=(0, 0, 1), thickness=-1, lineType=cv2.LINE_AA)\n",
    "    \n",
    "    axes[i].imshow(img)"
   ]
  }
 ],
 "metadata": {
  "kernelspec": {
   "display_name": "jipiration",
   "language": "python",
   "name": "jipiration"
  },
  "language_info": {
   "codemirror_mode": {
    "name": "ipython",
    "version": 3
   },
   "file_extension": ".py",
   "mimetype": "text/x-python",
   "name": "python",
   "nbconvert_exporter": "python",
   "pygments_lexer": "ipython3",
   "version": "3.7.5"
  }
 },
 "nbformat": 4,
 "nbformat_minor": 4
}
