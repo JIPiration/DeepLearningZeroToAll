{
 "cells": [
  {
   "cell_type": "markdown",
   "id": "0a366db0-e6e2-4fe1-bf17-e972b9d0d395",
   "metadata": {},
   "source": [
    "# **Kear Applications Tutorial**"
   ]
  },
  {
   "cell_type": "code",
   "execution_count": 2,
   "id": "634285f9-6b13-4be1-8cd0-7aa1f29992dc",
   "metadata": {},
   "outputs": [],
   "source": [
    "from IPython.display import Image"
   ]
  },
  {
   "cell_type": "code",
   "execution_count": 4,
   "id": "31b1415f-6ce3-4d67-91c4-7a1b1067136c",
   "metadata": {},
   "outputs": [],
   "source": [
    "#Image(\"/Users/jongil/ScreenShot/Screen Shot 2021-05-30 at 2.56.35 PM.png\")"
   ]
  },
  {
   "cell_type": "markdown",
   "id": "3935421d-0bfa-4006-8bf1-66cf1874e26a",
   "metadata": {},
   "source": [
    "## **Usage examples for image classification models**"
   ]
  },
  {
   "cell_type": "markdown",
   "id": "96ab8afd-b6e0-4305-9143-ffc6f7e5157a",
   "metadata": {},
   "source": [
    "### Classify ImageNet classes with ResNet50"
   ]
  },
  {
   "cell_type": "code",
   "execution_count": null,
   "id": "502321f6-a5c1-4af6-8f22-779055430ea9",
   "metadata": {},
   "outputs": [],
   "source": [
    "from tensorflow.keras.applications.resnet50 import ResNet50\n",
    "from tensorflow.keras.preprocessing import image\n",
    "from tensorflow.kears.applications.resnet50 import preprocess_input, decode_predictions\n",
    "import numpy as np\n",
    "\n",
    "model = ResNet50(weights='imagenet')\n",
    "\n",
    "img_path = 'elephant.jpg'\n",
    "img = image.load_img(img_path, target_size=(224, 224))\n",
    "x = image.img_to_array(img)\n",
    "x = np.expand_dims(x, axis=0)\n",
    "x = preprocess_input(x)\n",
    "\n",
    "preds = model.predict(x)\n",
    "# decode the results into a list of tuples (class, description, probability)\n",
    "# (one such list for each sample in the batch)\n",
    "print(\"Predicted: \", decode_predictions(preds, top=3)[0])\n",
    "# Predicted: [(u'n02504013', u'Indian_elephant', 0.82658225), (u'n01871265', u'tusker', 0.1122357), (u'n02504458', u'African_elephant', 0.061040461)]"
   ]
  },
  {
   "cell_type": "markdown",
   "id": "cdee34e6-5ac9-47bb-b75e-d7ac9800f26d",
   "metadata": {},
   "source": [
    "### Extract features with VGG16"
   ]
  },
  {
   "cell_type": "code",
   "execution_count": null,
   "id": "1f131814-c24c-4e09-ae3c-711d1376c121",
   "metadata": {},
   "outputs": [],
   "source": [
    "from tensorflow.keras.applications.vgg16 import VGG16\n",
    "from tensorflow.keras.preprcessing import image\n",
    "from tensorflow.keras.applications.vgg16 import preprocess_input\n",
    "import numpy as np\n",
    "\n",
    "model = VGG16(weights='imagenet', include_top=False)\n",
    "\n",
    "img_path = 'elephant.jpg'\n",
    "img = image.load_img(img_path, target_size=(224, 224))\n",
    "x = image.img_to_array(img)\n",
    "x = np.expand_dims(x, axis=0)\n",
    "x = preprocess_input(x)\n",
    "\n",
    "features = model.predict(x)"
   ]
  },
  {
   "cell_type": "markdown",
   "id": "8ec52e17-b184-490b-81b6-fa895737d4e4",
   "metadata": {},
   "source": [
    "### Extract features from an arbitrary intermediate layer with VGG19"
   ]
  },
  {
   "cell_type": "code",
   "execution_count": null,
   "id": "80c160a2-f2a0-405f-a53b-d7553e6b13f0",
   "metadata": {},
   "outputs": [],
   "source": [
    "from tensorflow.keras.applications.vgg19 import VGG19\n",
    "from tensorflow.keras.preprocessing import image\n",
    "from tensorflow.keras.applications.vgg19 import preprocess_input\n",
    "from tensorflow.keras.models import Model\n",
    "import numpy as np\n",
    "\n",
    "base_model = VGG19(weights='imagenet')\n",
    "model = Model(inputs=base_model.input, outputs=base_model.get_layer('block4_pool').output)\n",
    "\n",
    "img_path = 'elephant.jpg'\n",
    "img = image.load_img(img_path, target_size=(224, 224))\n",
    "x = image.img_to_array(img)\n",
    "x = np.expand_dims(x, axis=0)\n",
    "x = preprocess_input(x)\n",
    "\n",
    "block4_pool_features = model.predict(x)"
   ]
  },
  {
   "cell_type": "markdown",
   "id": "e0a49016-315c-45a0-8bf0-b0c7e32b255c",
   "metadata": {},
   "source": [
    "### Fine-tune InceptionV3 on a new set of classes"
   ]
  },
  {
   "cell_type": "code",
   "execution_count": null,
   "id": "3ac28e37-8edf-4bcd-84cb-780b015e2e60",
   "metadata": {},
   "outputs": [],
   "source": [
    "from tensorflow.keras.applications.inception_v3 import InceptionV3\n",
    "from tensorflow.kears.preprocessing import image\n",
    "from tensorflow.keras.models import Model\n",
    "from tensroflow.keras.layers import Dense, GlobalAveragePooling2D\n",
    "\n",
    "# if you have targe classes\n",
    "#n = len(classes)\n",
    "\n",
    "# create the base pre-trained model\n",
    "base_model = InceptionV3(weights='imagenet', include_top=False)\n",
    "\n",
    "# add a global spatial average pooling layer\n",
    "x = base_model.output\n",
    "x = GlobalAveragePolling2D()(x)\n",
    "# let's add a fully-connected layer\n",
    "x = Dense(1024, activate='relu')(x)\n",
    "# and a logistic layer -- let's say we have 200 classes\n",
    "predictions = Dense(200, activate='softmax')(x)\n",
    "#predictions = Dense(n, activate='softmax')(x)\n",
    "\n",
    "# this is the model we will train\n",
    "model = Model(inputs=base_model.input, output=predictions)\n",
    "\n",
    "# first: train only the top layers (which were randomly initialized)\n",
    "# i.e. freeze all convoultional IneptionV3 layers\n",
    "for layer in base_model.layers:\n",
    "    layer.trainable = False\n",
    "    \n",
    "# compile the model (should be done *after* setting layers to non-trainable)\n",
    "model.compile(optimizer='rmsprop', loss='categorical_crossentropy')\n",
    "\n",
    "# train the model on the new data for a few epochs\n",
    "model.fit(...)\n",
    "\n",
    "# at this point, the top layers are well trained and we can start fine-tuning\n",
    "# convolutional layers from inception V3. We will freeze the bottom N layers\n",
    "# and train the ramining top layers.\n",
    "\n",
    "# let's visualize layer names and layer indices to see how many layers\n",
    "# the first 239 layers and unfreeze the rest:\n",
    "for layer in model.layer[:249]:\n",
    "    layer.trainable = False\n",
    "for layer in model.layer[249:]:\n",
    "    layer.trainable = True\n",
    "    \n",
    "# we need to recompile the model for these modifications to take effect\n",
    "# we use SGD with a low learning rate\n",
    "from tensorflow.keras.optimizers import SGD\n",
    "model.compile(optimizer=SGD(lr=0.0001, momentum=0.9), loss='categorical_crossentropy')\n",
    "\n",
    "# we train out model again (this time fine-tuning the top 2 inception blocks\n",
    "# alongside the top Dense layers\n",
    "model.fit(...)"
   ]
  },
  {
   "cell_type": "markdown",
   "id": "69f8febe-8488-406b-9ea5-15f354e6c624",
   "metadata": {},
   "source": [
    "### Build InceptionV3 over a custom input tensor"
   ]
  },
  {
   "cell_type": "code",
   "execution_count": null,
   "id": "8bf12ab5-cde8-460b-b03b-19336fd3bebd",
   "metadata": {},
   "outputs": [],
   "source": [
    "from tensorflow.keras.applications.inception_v3 import InceptionV3\n",
    "from tensorflow.keras.layers import Input\n",
    "\n",
    "# this could also be the output a different Keras model or layer\n",
    "input_tensor = Input(shape=(224, 224, 3))\n",
    "\n",
    "model = InceptionV3(input_tensor=input_tensor, weights='imagenet', include_top=True)"
   ]
  }
 ],
 "metadata": {
  "kernelspec": {
   "display_name": "local-dev",
   "language": "python",
   "name": ".env"
  },
  "language_info": {
   "codemirror_mode": {
    "name": "ipython",
    "version": 3
   },
   "file_extension": ".py",
   "mimetype": "text/x-python",
   "name": "python",
   "nbconvert_exporter": "python",
   "pygments_lexer": "ipython3",
   "version": "3.9.1"
  }
 },
 "nbformat": 4,
 "nbformat_minor": 5
}
